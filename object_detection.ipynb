{
 "cells": [
  {
   "cell_type": "markdown",
   "metadata": {},
   "source": [
    "# Object Detection Demo\n",
    "Welcome to the object detection inference walkthrough!  This notebook will walk you step by step through the process of using a pre-trained model to detect objects in an image. Make sure to follow the [installation instructions](https://github.com/tensorflow/models/blob/master/research/object_detection/g3doc/installation.md) before you start."
   ]
  },
  {
   "cell_type": "markdown",
   "metadata": {},
   "source": [
    "# Imports"
   ]
  },
  {
   "cell_type": "code",
   "execution_count": 1,
   "metadata": {
    "scrolled": true
   },
   "outputs": [
    {
     "name": "stdout",
     "output_type": "stream",
     "text": [
      "/Users/Erik/git/paintspot\n"
     ]
    },
    {
     "name": "stderr",
     "output_type": "stream",
     "text": [
      "/usr/local/Cellar/python3/3.6.3/Frameworks/Python.framework/Versions/3.6/lib/python3.6/importlib/_bootstrap.py:219: RuntimeWarning: compiletime version 3.5 of module 'tensorflow.python.framework.fast_tensor_util' does not match runtime version 3.6\n",
      "  return f(*args, **kwds)\n"
     ]
    }
   ],
   "source": [
    "\n",
    "import numpy as np\n",
    "import os\n",
    "print (os.getcwd())\n",
    "import six.moves.urllib as urllib\n",
    "import sys\n",
    "import tarfile\n",
    "import tensorflow as tf\n",
    "import zipfile\n",
    "\n",
    "from collections import defaultdict\n",
    "from io import StringIO\n",
    "from matplotlib import pyplot as plt\n",
    "import matplotlib.patches as patches\n",
    "from PIL import Image\n",
    "\n",
    "if tf.__version__ != '1.4.0':\n",
    "  raise ImportError('Please upgrade your tensorflow installation to v1.4.0!')\n",
    "\n",
    "# This is needed to display the images.\n",
    "%matplotlib inline\n",
    "\n"
   ]
  },
  {
   "cell_type": "markdown",
   "metadata": {},
   "source": [
    "# Model preparation "
   ]
  },
  {
   "cell_type": "markdown",
   "metadata": {},
   "source": [
    "## Variables\n",
    "\n",
    "Any model exported using the `export_inference_graph.py` tool can be loaded here simply by changing `PATH_TO_CKPT` to point to a new .pb file.  \n",
    "\n",
    "By default we use an \"SSD with Mobilenet\" model here. See the [detection model zoo](https://github.com/tensorflow/models/blob/master/research/object_detection/g3doc/detection_model_zoo.md) for a list of other models that can be run out-of-the-box with varying speeds and accuracies."
   ]
  },
  {
   "cell_type": "code",
   "execution_count": 2,
   "metadata": {},
   "outputs": [],
   "source": [
    "# What model to download.\n",
    "MODEL_NAME = 'faster_rcnn_resnet101_coco_2017_11_08'\n",
    "MODEL_FILE = MODEL_NAME + '.tar.gz'\n",
    "DOWNLOAD_BASE = 'http://download.tensorflow.org/models/object_detection/'\n",
    "\n",
    "# Path to frozen detection graph. This is the actual model that is used for the object detection.\n",
    "PATH_TO_CKPT = 'pretrained_model/%s/frozen_inference_graph.pb' % MODEL_NAME\n"
   ]
  },
  {
   "cell_type": "markdown",
   "metadata": {},
   "source": [
    "## Download Model"
   ]
  },
  {
   "cell_type": "code",
   "execution_count": 3,
   "metadata": {},
   "outputs": [],
   "source": [
    "if not os.path.exists('pretrained_model/%s' % MODEL_NAME):\n",
    "    opener = urllib.request.URLopener()\n",
    "    opener.retrieve(DOWNLOAD_BASE + MODEL_FILE, MODEL_FILE)\n",
    "    tar_file = tarfile.open(MODEL_FILE)\n",
    "    for file in tar_file.getmembers():\n",
    "        file_name = os.path.basename(file.name)\n",
    "        if 'frozen_inference_graph.pb' in file_name:\n",
    "            tar_file.extract(file, os.getcwd())"
   ]
  },
  {
   "cell_type": "markdown",
   "metadata": {},
   "source": [
    "## Load a (frozen) Tensorflow model into memory."
   ]
  },
  {
   "cell_type": "code",
   "execution_count": 4,
   "metadata": {},
   "outputs": [],
   "source": [
    "detection_graph = tf.Graph()\n",
    "with detection_graph.as_default():\n",
    "    od_graph_def = tf.GraphDef()\n",
    "    with tf.gfile.GFile(PATH_TO_CKPT, 'rb') as fid:\n",
    "        serialized_graph = fid.read()\n",
    "        od_graph_def.ParseFromString(serialized_graph)\n",
    "        tf.import_graph_def(od_graph_def, name='')"
   ]
  },
  {
   "cell_type": "markdown",
   "metadata": {},
   "source": [
    "## Helper code"
   ]
  },
  {
   "cell_type": "code",
   "execution_count": 5,
   "metadata": {},
   "outputs": [],
   "source": [
    "def load_image_into_numpy_array(image):\n",
    "    im_width, im_height = image.size\n",
    "    return np.array(image.getdata()).reshape(\n",
    "        (im_height, im_width, 3)).astype(np.uint8)"
   ]
  },
  {
   "cell_type": "code",
   "execution_count": null,
   "metadata": {},
   "outputs": [],
   "source": [
    "from watson_developer_cloud import VisualRecognitionV3\n",
    "\n",
    "WATSON_API_KEY = '05572b8833ce3e4086391ffa8c55b50381ec6d15'\n",
    "\n",
    "# Replace with your api key\n",
    "visual_recognition = VisualRecognitionV3('2017-11-30', api_key=WATSON_API_KEY)\n",
    "\n",
    "MAX_NUMBER_OF_BOXES = 10\n",
    "MINIMUM_CONFIDENCE = 0.6\n",
    "\n",
    "COLORS = ['b', 'g', 'r', 'c', 'm', 'y', 'b', 'w']"
   ]
  },
  {
   "cell_type": "markdown",
   "metadata": {},
   "source": [
    "# Detection"
   ]
  },
  {
   "cell_type": "code",
   "execution_count": null,
   "metadata": {
    "scrolled": true
   },
   "outputs": [
    {
     "name": "stdout",
     "output_type": "stream",
     "text": [
      "Opening file: 'images/mauritshuis.jpg'\n",
      "+ Detecting objects\n",
      "+ Classifying objects\n"
     ]
    }
   ],
   "source": [
    "import scipy.misc\n",
    "import json\n",
    "\n",
    "images = [\"mauritshuis\"]\n",
    "\n",
    "img_height, img_width = None, None\n",
    "with detection_graph.as_default():\n",
    "    with tf.Session(graph=detection_graph) as sess:\n",
    "        # Definite input and output Tensors for detection_graph\n",
    "        image_tensor = detection_graph.get_tensor_by_name('image_tensor:0')\n",
    "        # Each box represents a part of the image where a particular object was detected.\n",
    "        detection_boxes = detection_graph.get_tensor_by_name('detection_boxes:0')\n",
    "        # Each score represent how level of confidence for each of the objects.\n",
    "        # Score is shown on the result image, together with the class label.\n",
    "        detection_scores = detection_graph.get_tensor_by_name('detection_scores:0')\n",
    "        detection_classes = detection_graph.get_tensor_by_name('detection_classes:0')\n",
    "        num_detections = detection_graph.get_tensor_by_name('num_detections:0')\n",
    "\n",
    "        for image_name in images:\n",
    "            print (\"Opening file: 'images/%s.jpg'\" % image_name)\n",
    "            image = Image.open('images/%s.jpg' % image_name)\n",
    "            # the array based representation of the image will be used later in order to prepare the\n",
    "            # result image with boxes and labels on it.\n",
    "            image_np = load_image_into_numpy_array(image)\n",
    "            \n",
    "            img_height, img_width, _ = image_np.shape\n",
    "            \n",
    "            # Create figure and axes and display the image\n",
    "            fig = plt.figure(figsize=(24, 16), frameon=False)\n",
    "            fig = plt.imshow(image_np)\n",
    "            \n",
    "            # Expand dimensions since the model expects images to have shape: [1, None, None, 3]\n",
    "            image_np_expanded = np.expand_dims(image_np, axis=0)\n",
    "            # Actual detection.\n",
    "            print (\"+ Detecting objects\")\n",
    "            (boxes, scores, classes, num) = sess.run(\n",
    "                [detection_boxes, detection_scores, detection_classes, num_detections],\n",
    "                feed_dict={image_tensor: image_np_expanded})\n",
    "            \n",
    "            boxes = np.squeeze(boxes)\n",
    "            classes = np.squeeze(classes).astype(np.int32)\n",
    "            scores = np.squeeze(scores)\n",
    "\n",
    "            # From normalized to pixel coordinates\n",
    "            boxes[:, [0, 2]] *= img_height\n",
    "            boxes[:, [1, 3]] *= img_width\n",
    "            \n",
    "            print (\"+ Classifying objects\")\n",
    "            for box, score, label in zip(boxes, scores, classes):\n",
    "                \n",
    "                by1, bx1, by2, bx2 = box.astype(int)\n",
    "                \n",
    "                box_height, box_width = (by2-by1), (bx2-bx1)\n",
    "                \n",
    "                if box_width > 0.4*img_width or score < 0.1:\n",
    "                    continue\n",
    "                \n",
    "                # Save cropped image\n",
    "                obj = image.crop((bx1, by1, bx2, by2))\n",
    "                obj.save('tmp.jpg')\n",
    "                \n",
    "                # Open cropped image and classify using Watson\n",
    "                with open('tmp.jpg', 'rb') as image_file:\n",
    "                    watson_params = json.dumps({'threshold': 0.6, 'classifier_ids': ['default']})\n",
    "                    results = visual_recognition.classify(images_file=image_file, parameters=watson_params)\n",
    "                    label = results['images'][0]['classifiers'][0]['classes'][0]['class']\n",
    "                    ax = plt.gca()\n",
    "                    ax.text(bx1 + 5, \n",
    "                            by1 - 5, \n",
    "                            label, \n",
    "                            fontsize=10, \n",
    "                            color='white', \n",
    "                            bbox={'facecolor': 'g', 'edgecolor':'none'})\n",
    "\n",
    "                # Create a Rectangle patch\n",
    "                rect = patches.Rectangle((bx1, by1), \n",
    "                                         box_width, \n",
    "                                         box_height, \n",
    "                                         linewidth=2, \n",
    "                                         edgecolor='g', \n",
    "                                         facecolor='none')\n",
    "                ax = plt.gca()\n",
    "                ax.add_patch(rect)\n",
    "            fig.axes.get_xaxis().set_visible(False)\n",
    "            fig.axes.get_yaxis().set_visible(False)\n",
    "            print (\"Writing image to 'images/output_%s.jpg'\" % image_name)\n",
    "            plt.savefig('images/output_%s.jpg' % image_name, bbox_inches='tight', pad_inches=0.0)\n",
    "            plt.show()\n",
    "            plt.close()\n",
    "            print ()\n",
    "        "
   ]
  },
  {
   "cell_type": "code",
   "execution_count": null,
   "metadata": {},
   "outputs": [],
   "source": []
  }
 ],
 "metadata": {
  "kernelspec": {
   "display_name": "Python 3",
   "language": "python",
   "name": "python3"
  },
  "language_info": {
   "codemirror_mode": {
    "name": "ipython",
    "version": 3
   },
   "file_extension": ".py",
   "mimetype": "text/x-python",
   "name": "python",
   "nbconvert_exporter": "python",
   "pygments_lexer": "ipython3",
   "version": "3.6.3"
  }
 },
 "nbformat": 4,
 "nbformat_minor": 2
}
